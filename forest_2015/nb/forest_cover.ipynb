{
 "cells": [
  {
   "cell_type": "markdown",
   "metadata": {
    "collapsed": true
   },
   "source": [
    "This is my very first Kaggle competition! I'm excited and I picked a pretty basic one - **categorize forest cover type** based on ~50 features. Looks like a job for a decision tree. I've never used one before, so I'll be learning here!"
   ]
  },
  {
   "cell_type": "code",
   "execution_count": 144,
   "metadata": {
    "collapsed": true
   },
   "outputs": [],
   "source": [
    "import pandas as pd\n",
    "from sklearn import tree\n",
    "import numpy as np\n",
    "import matplotlib.pyplot as plt\n",
    "%matplotlib inline"
   ]
  },
  {
   "cell_type": "markdown",
   "metadata": {},
   "source": [
    "The training data is ~5MB so I can easily load it into memory. Yay!"
   ]
  },
  {
   "cell_type": "code",
   "execution_count": 145,
   "metadata": {
    "collapsed": false
   },
   "outputs": [],
   "source": [
    "df = pd.read_csv(\"../data/train.csv\").drop('Id', axis=1)"
   ]
  },
  {
   "cell_type": "code",
   "execution_count": 146,
   "metadata": {
    "collapsed": false
   },
   "outputs": [
    {
     "name": "stdout",
     "output_type": "stream",
     "text": [
      "(15120, 55)\n"
     ]
    }
   ],
   "source": [
    "print df.shape"
   ]
  },
  {
   "cell_type": "code",
   "execution_count": 147,
   "metadata": {
    "collapsed": false
   },
   "outputs": [
    {
     "name": "stdout",
     "output_type": "stream",
     "text": [
      "(15120, 55)\n"
     ]
    }
   ],
   "source": [
    "print df.dropna().shape"
   ]
  },
  {
   "cell_type": "markdown",
   "metadata": {},
   "source": [
    "No NaNs at all!? Thanks forest service!\n",
    "\n",
    "I'm going to run this right out of the box, per SKLearn's excellent documentation."
   ]
  },
  {
   "cell_type": "code",
   "execution_count": 148,
   "metadata": {
    "collapsed": false
   },
   "outputs": [
    {
     "data": {
      "text/plain": [
       "DecisionTreeClassifier(compute_importances=None, criterion='gini',\n",
       "            max_depth=None, max_features=None, max_leaf_nodes=None,\n",
       "            min_density=None, min_samples_leaf=1, min_samples_split=2,\n",
       "            random_state=None, splitter='best')"
      ]
     },
     "execution_count": 148,
     "metadata": {},
     "output_type": "execute_result"
    }
   ],
   "source": [
    "clf = tree.DecisionTreeClassifier()\n",
    "Y = df['Cover_Type']\n",
    "X = df.drop('Cover_Type', axis=1)\n",
    "clf.fit(X,Y)"
   ]
  },
  {
   "cell_type": "code",
   "execution_count": 149,
   "metadata": {
    "collapsed": false
   },
   "outputs": [
    {
     "name": "stdout",
     "output_type": "stream",
     "text": [
      "(2160, 55)\n"
     ]
    }
   ],
   "source": [
    "print df[df['Cover_Type'] == 1].shape"
   ]
  },
  {
   "cell_type": "markdown",
   "metadata": {},
   "source": [
    "Cool, it ran the decision tree. But I have no idea what the decision surface looks like. I don't even know what the important features are. Let's take a look at a Principal Component Analysis on the data:"
   ]
  },
  {
   "cell_type": "code",
   "execution_count": 150,
   "metadata": {
    "collapsed": false
   },
   "outputs": [
    {
     "data": {
      "image/png": "[encoded data removed]",
      "text/plain": [
       "<matplotlib.figure.Figure at 0x10492a390>"
      ]
     },
     "metadata": {},
     "output_type": "display_data"
    }
   ],
   "source": [
    "from sklearn.decomposition import PCA\n",
    "\n",
    "pca = PCA(n_components=2)\n",
    "xy = dict()\n",
    "for i in range(1,8):\n",
    "    temp = df[df['Cover_Type'] == i].drop('Cover_Type', axis=1)\n",
    "    xy[str(i)] = pca.fit(temp).transform(temp)\n",
    "\n",
    "\n",
    "l = {'1':'white', '2':'green', '3':'black', '4':'red', '5':'violet', '6':'orange', '7':'yellow'}\n",
    "\n",
    "fig = plt.figure(figsize=(10,6))\n",
    "for i in xy:\n",
    "    plt.scatter(xy[i][0], xy[i][1], label='test', c=l[i], s=100)\n",
    "\n",
    "plt.title('Initial PCA of forest data')\n",
    "plt.xlabel('PC1')\n",
    "plt.ylabel('PC2')\n",
    "plt.show()"
   ]
  },
  {
   "cell_type": "markdown",
   "metadata": {},
   "source": [
    "This looks very clustered and, if we were drawing a decision boundary in the PC space, it would be very difficult to get decent separation between some of the categories. But of course I haven't done any cross-validation, so I'm going to do that now.\n",
    "\n",
    "I will iterate through a range of k-fold cross validations and see which one allows my current decision tree to best fit the cross-validation data. This will take a while to run."
   ]
  },
  {
   "cell_type": "code",
   "execution_count": 151,
   "metadata": {
    "collapsed": true
   },
   "outputs": [],
   "source": [
    "from sklearn.cross_validation import KFold\n",
    "from sklearn.metrics import accuracy_score\n",
    "import time\n",
    "kx = np.array(X)\n",
    "ky = np.array(Y)"
   ]
  },
  {
   "cell_type": "code",
   "execution_count": 132,
   "metadata": {
    "collapsed": false
   },
   "outputs": [
    {
     "name": "stdout",
     "output_type": "stream",
     "text": [
      "Executed in 153.8127s\n"
     ]
    },
    {
     "data": {
      "image/png": "[encoded data removed]",
      "text/plain": [
       "<matplotlib.figure.Figure at 0x10493f190>"
      ]
     },
     "metadata": {},
     "output_type": "display_data"
    }
   ],
   "source": [
    "scores = []\n",
    "std = []\n",
    "index = []\n",
    "start = time.clock()\n",
    "for i in range(2,40):\n",
    "    kf = KFold(len(df), n_folds = i, shuffle=True)\n",
    "    _scores = []\n",
    "    for train_index, test_index in kf:\n",
    "        x_train, x_test = kx[train_index], kx[test_index]\n",
    "        y_train, y_test = ky[train_index], ky[test_index]\n",
    "        clf = tree.DecisionTreeClassifier()\n",
    "        clf.fit(x_train, y_train)\n",
    "        ypred = clf.predict(x_test)\n",
    "        _scores.append(accuracy_score(y_test, ypred))\n",
    "    scores.append(np.mean(np.array(_scores)))\n",
    "    std.append(np.std(np.array(_scores)))\n",
    "    index.append(i)\n",
    "plt.errorbar(index, scores, std, marker='^')\n",
    "print 'Executed in ' + str(time.clock()-start) + 's'\n",
    "plt.show()"
   ]
  },
  {
   "cell_type": "markdown",
   "metadata": {},
   "source": [
    "It looks like after about 12 folds in the training data, cross-validation performance starts to level off. That's good because more folds means more computing time. Unfortunately, this is only at about 80% description of the variance, which is not good enough, since the current leader has a 100% fit.\n",
    "\n",
    "Since this is my first competition, I will take this model and submit it to see what happens. I don't expect to get very far on the leader board, but it would be personal validation to not be the worst submission.\n",
    "\n",
    "The test data is much larger (~76MB) than the training data, but still small enough to fit into memory. I expect this will take a while, but I'll give it a shot anyway."
   ]
  },
  {
   "cell_type": "code",
   "execution_count": 152,
   "metadata": {
    "collapsed": true
   },
   "outputs": [],
   "source": [
    "df_test = pd.read_csv(\"../../../../../WorkLocal/Kaggle/forest_2015/test.csv\")"
   ]
  },
  {
   "cell_type": "code",
   "execution_count": 216,
   "metadata": {
    "collapsed": false
   },
   "outputs": [],
   "source": [
    "test_X = df_test.drop('Id', axis=1)\n",
    "indices = df_test['Id']"
   ]
  },
  {
   "cell_type": "code",
   "execution_count": 217,
   "metadata": {
    "collapsed": false
   },
   "outputs": [
    {
     "name": "stdout",
     "output_type": "stream",
     "text": [
      "Executed in 4.110639s\n"
     ]
    }
   ],
   "source": [
    "ypred = []\n",
    "start = time.clock()\n",
    "\n",
    "kf = KFold(len(df), n_folds = 12, shuffle=True)\n",
    "_scores = []\n",
    "for train_index, test_index in kf:\n",
    "    x_train, x_test = kx[train_index], kx[test_index]\n",
    "    y_train, y_test = ky[train_index], ky[test_index]\n",
    "    clf = tree.DecisionTreeClassifier()\n",
    "    clf.fit(x_train, y_train)\n",
    "    ypred.append(clf.predict(test_X))\n",
    "    \n",
    "\n",
    "print 'Executed in ' + str(time.clock()-start) + 's'"
   ]
  },
  {
   "cell_type": "code",
   "execution_count": 219,
   "metadata": {
    "collapsed": false
   },
   "outputs": [],
   "source": [
    "Ypred = np.array(ypred).mean(0)\n",
    "Ypred = np.around(Ypred)\n",
    "Ypred = Ypred.astype(int)\n",
    "export = pd.Series(Ypred, name='Cover_Type', index=indices)\n",
    "export.index.name = 'Id'\n",
    "export.to_csv('../../../../../WorkLocal/Kaggle/forest_2015/submission_1.csv', header=True, index=True)"
   ]
  },
  {
   "cell_type": "markdown",
   "metadata": {},
   "source": [
    "Sweet! I am currently the **1106th best entry** (out of 1341). That's not so great, but hey it's my first one. My model only explained **60%** of the variation, so let's see what more I can do beyond using a default decision tree/k-fold CV methodology. "
   ]
  }
 ],
 "metadata": {
  "kernelspec": {
   "display_name": "Python 2",
   "language": "python",
   "name": "python2"
  },
  "language_info": {
   "codemirror_mode": {
    "name": "ipython",
    "version": 2
   },
   "file_extension": ".py",
   "mimetype": "text/x-python",
   "name": "python",
   "nbconvert_exporter": "python",
   "pygments_lexer": "ipython2",
   "version": "2.7.8"
  }
 },
 "nbformat": 4,
 "nbformat_minor": 0
}
