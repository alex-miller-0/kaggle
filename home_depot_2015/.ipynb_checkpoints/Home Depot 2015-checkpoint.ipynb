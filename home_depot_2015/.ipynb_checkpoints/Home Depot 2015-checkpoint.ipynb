{
 "cells": [
  {
   "cell_type": "markdown",
   "metadata": {},
   "source": [
    "# Home Depot Product Search Relevance\n",
    "The goal of this analysis is to determine how to predict relevance of a search on Home Depot's website. The training data were labelled by crowdsourcing humans, but the hope is that the text and numerical features will be enough to predict relevance via machine learning"
   ]
  },
  {
   "cell_type": "code",
   "execution_count": 45,
   "metadata": {
    "collapsed": false
   },
   "outputs": [],
   "source": [
    "# Import my library stack\n",
    "import pandas as pd, numpy as np, matplotlib.pyplot as plt\n",
    "import os\n",
    "import pprint\n",
    "import copy\n",
    "%matplotlib inline\n",
    "\n",
    "# Some nice display tools for ipython\n",
    "from IPython.display import display, HTML\n",
    "\n",
    "# There are several files that the Kaggle competition included for this analysis\n",
    "DATADIR = \"%s/home_depot_2015/\"%os.environ[\"KAGGLE_DATA_DIR\"] "
   ]
  },
  {
   "cell_type": "markdown",
   "metadata": {},
   "source": [
    "# Overview of the data\n",
    "There are three files I will take a peek at here:\n",
    "    \n",
    "* **train.csv** -- The training set, which contains products, searches, and relevance scores\n",
    "* **test.csv** -- The test set, which contains products and searches --> I am to predict relevance scores\n",
    "    \n",
    "* **product_descriptions.csv** -- Contains product id and a plain text description of the product\n",
    "    \n",
    "* **attributes.csv** -- Contains product id and several attributes, but for only a *subset* of products\n",
    "\n",
    "I'm just going to preview the first few rows of each."
   ]
  },
  {
   "cell_type": "code",
   "execution_count": 46,
   "metadata": {
    "collapsed": false
   },
   "outputs": [
    {
     "data": {
      "text/html": [
       "<br><h2>First five rows of train</h2>"
      ],
      "text/plain": [
       "<IPython.core.display.HTML object>"
      ]
     },
     "metadata": {},
     "output_type": "display_data"
    },
    {
     "name": "stdout",
     "output_type": "stream",
     "text": [
      "None\n"
     ]
    },
    {
     "data": {
      "text/html": [
       "<div>\n",
       "<table border=\"1\" class=\"dataframe\">\n",
       "  <thead>\n",
       "    <tr style=\"text-align: right;\">\n",
       "      <th></th>\n",
       "      <th>id</th>\n",
       "      <th>product_uid</th>\n",
       "      <th>product_title</th>\n",
       "      <th>search_term</th>\n",
       "      <th>relevance</th>\n",
       "    </tr>\n",
       "  </thead>\n",
       "  <tbody>\n",
       "    <tr>\n",
       "      <th>0</th>\n",
       "      <td>2</td>\n",
       "      <td>100001</td>\n",
       "      <td>Simpson Strong-Tie 12-Gauge Angle</td>\n",
       "      <td>angle bracket</td>\n",
       "      <td>3.00</td>\n",
       "    </tr>\n",
       "    <tr>\n",
       "      <th>1</th>\n",
       "      <td>3</td>\n",
       "      <td>100001</td>\n",
       "      <td>Simpson Strong-Tie 12-Gauge Angle</td>\n",
       "      <td>l bracket</td>\n",
       "      <td>2.50</td>\n",
       "    </tr>\n",
       "    <tr>\n",
       "      <th>2</th>\n",
       "      <td>9</td>\n",
       "      <td>100002</td>\n",
       "      <td>BEHR Premium Textured DeckOver 1-gal. #SC-141 ...</td>\n",
       "      <td>deck over</td>\n",
       "      <td>3.00</td>\n",
       "    </tr>\n",
       "    <tr>\n",
       "      <th>3</th>\n",
       "      <td>16</td>\n",
       "      <td>100005</td>\n",
       "      <td>Delta Vero 1-Handle Shower Only Faucet Trim Ki...</td>\n",
       "      <td>rain shower head</td>\n",
       "      <td>2.33</td>\n",
       "    </tr>\n",
       "    <tr>\n",
       "      <th>4</th>\n",
       "      <td>17</td>\n",
       "      <td>100005</td>\n",
       "      <td>Delta Vero 1-Handle Shower Only Faucet Trim Ki...</td>\n",
       "      <td>shower only faucet</td>\n",
       "      <td>2.67</td>\n",
       "    </tr>\n",
       "  </tbody>\n",
       "</table>\n",
       "</div>"
      ],
      "text/plain": [
       "   id  product_uid                                      product_title  \\\n",
       "0   2       100001                  Simpson Strong-Tie 12-Gauge Angle   \n",
       "1   3       100001                  Simpson Strong-Tie 12-Gauge Angle   \n",
       "2   9       100002  BEHR Premium Textured DeckOver 1-gal. #SC-141 ...   \n",
       "3  16       100005  Delta Vero 1-Handle Shower Only Faucet Trim Ki...   \n",
       "4  17       100005  Delta Vero 1-Handle Shower Only Faucet Trim Ki...   \n",
       "\n",
       "          search_term  relevance  \n",
       "0       angle bracket       3.00  \n",
       "1           l bracket       2.50  \n",
       "2           deck over       3.00  \n",
       "3    rain shower head       2.33  \n",
       "4  shower only faucet       2.67  "
      ]
     },
     "metadata": {},
     "output_type": "display_data"
    },
    {
     "name": "stdout",
     "output_type": "stream",
     "text": [
      "None\n"
     ]
    },
    {
     "data": {
      "text/html": [
       "<br><h2>First five rows of test</h2>"
      ],
      "text/plain": [
       "<IPython.core.display.HTML object>"
      ]
     },
     "metadata": {},
     "output_type": "display_data"
    },
    {
     "name": "stdout",
     "output_type": "stream",
     "text": [
      "None\n"
     ]
    },
    {
     "data": {
      "text/html": [
       "<div>\n",
       "<table border=\"1\" class=\"dataframe\">\n",
       "  <thead>\n",
       "    <tr style=\"text-align: right;\">\n",
       "      <th></th>\n",
       "      <th>id</th>\n",
       "      <th>product_uid</th>\n",
       "      <th>product_title</th>\n",
       "      <th>search_term</th>\n",
       "    </tr>\n",
       "  </thead>\n",
       "  <tbody>\n",
       "    <tr>\n",
       "      <th>0</th>\n",
       "      <td>1</td>\n",
       "      <td>100001</td>\n",
       "      <td>Simpson Strong-Tie 12-Gauge Angle</td>\n",
       "      <td>90 degree bracket</td>\n",
       "    </tr>\n",
       "    <tr>\n",
       "      <th>1</th>\n",
       "      <td>4</td>\n",
       "      <td>100001</td>\n",
       "      <td>Simpson Strong-Tie 12-Gauge Angle</td>\n",
       "      <td>metal l brackets</td>\n",
       "    </tr>\n",
       "    <tr>\n",
       "      <th>2</th>\n",
       "      <td>5</td>\n",
       "      <td>100001</td>\n",
       "      <td>Simpson Strong-Tie 12-Gauge Angle</td>\n",
       "      <td>simpson sku able</td>\n",
       "    </tr>\n",
       "    <tr>\n",
       "      <th>3</th>\n",
       "      <td>6</td>\n",
       "      <td>100001</td>\n",
       "      <td>Simpson Strong-Tie 12-Gauge Angle</td>\n",
       "      <td>simpson strong  ties</td>\n",
       "    </tr>\n",
       "    <tr>\n",
       "      <th>4</th>\n",
       "      <td>7</td>\n",
       "      <td>100001</td>\n",
       "      <td>Simpson Strong-Tie 12-Gauge Angle</td>\n",
       "      <td>simpson strong tie hcc668</td>\n",
       "    </tr>\n",
       "  </tbody>\n",
       "</table>\n",
       "</div>"
      ],
      "text/plain": [
       "   id  product_uid                      product_title  \\\n",
       "0   1       100001  Simpson Strong-Tie 12-Gauge Angle   \n",
       "1   4       100001  Simpson Strong-Tie 12-Gauge Angle   \n",
       "2   5       100001  Simpson Strong-Tie 12-Gauge Angle   \n",
       "3   6       100001  Simpson Strong-Tie 12-Gauge Angle   \n",
       "4   7       100001  Simpson Strong-Tie 12-Gauge Angle   \n",
       "\n",
       "                 search_term  \n",
       "0          90 degree bracket  \n",
       "1           metal l brackets  \n",
       "2           simpson sku able  \n",
       "3       simpson strong  ties  \n",
       "4  simpson strong tie hcc668  "
      ]
     },
     "metadata": {},
     "output_type": "display_data"
    },
    {
     "name": "stdout",
     "output_type": "stream",
     "text": [
      "None\n"
     ]
    },
    {
     "data": {
      "text/html": [
       "<br><h2>First five rows of descriptions</h2>"
      ],
      "text/plain": [
       "<IPython.core.display.HTML object>"
      ]
     },
     "metadata": {},
     "output_type": "display_data"
    },
    {
     "name": "stdout",
     "output_type": "stream",
     "text": [
      "None\n"
     ]
    },
    {
     "data": {
      "text/html": [
       "<div>\n",
       "<table border=\"1\" class=\"dataframe\">\n",
       "  <thead>\n",
       "    <tr style=\"text-align: right;\">\n",
       "      <th></th>\n",
       "      <th>product_uid</th>\n",
       "      <th>product_description</th>\n",
       "    </tr>\n",
       "  </thead>\n",
       "  <tbody>\n",
       "    <tr>\n",
       "      <th>0</th>\n",
       "      <td>100001</td>\n",
       "      <td>Not only do angles make joints stronger, they ...</td>\n",
       "    </tr>\n",
       "    <tr>\n",
       "      <th>1</th>\n",
       "      <td>100002</td>\n",
       "      <td>BEHR Premium Textured DECKOVER is an innovativ...</td>\n",
       "    </tr>\n",
       "    <tr>\n",
       "      <th>2</th>\n",
       "      <td>100003</td>\n",
       "      <td>Classic architecture meets contemporary design...</td>\n",
       "    </tr>\n",
       "    <tr>\n",
       "      <th>3</th>\n",
       "      <td>100004</td>\n",
       "      <td>The Grape Solar 265-Watt Polycrystalline PV So...</td>\n",
       "    </tr>\n",
       "    <tr>\n",
       "      <th>4</th>\n",
       "      <td>100005</td>\n",
       "      <td>Update your bathroom with the Delta Vero Singl...</td>\n",
       "    </tr>\n",
       "  </tbody>\n",
       "</table>\n",
       "</div>"
      ],
      "text/plain": [
       "   product_uid                                product_description\n",
       "0       100001  Not only do angles make joints stronger, they ...\n",
       "1       100002  BEHR Premium Textured DECKOVER is an innovativ...\n",
       "2       100003  Classic architecture meets contemporary design...\n",
       "3       100004  The Grape Solar 265-Watt Polycrystalline PV So...\n",
       "4       100005  Update your bathroom with the Delta Vero Singl..."
      ]
     },
     "metadata": {},
     "output_type": "display_data"
    },
    {
     "name": "stdout",
     "output_type": "stream",
     "text": [
      "None\n"
     ]
    },
    {
     "data": {
      "text/html": [
       "<br><h2>First five rows of attributes</h2>"
      ],
      "text/plain": [
       "<IPython.core.display.HTML object>"
      ]
     },
     "metadata": {},
     "output_type": "display_data"
    },
    {
     "name": "stdout",
     "output_type": "stream",
     "text": [
      "None\n"
     ]
    },
    {
     "data": {
      "text/html": [
       "<div>\n",
       "<table border=\"1\" class=\"dataframe\">\n",
       "  <thead>\n",
       "    <tr style=\"text-align: right;\">\n",
       "      <th></th>\n",
       "      <th>product_uid</th>\n",
       "      <th>name</th>\n",
       "      <th>value</th>\n",
       "    </tr>\n",
       "  </thead>\n",
       "  <tbody>\n",
       "    <tr>\n",
       "      <th>0</th>\n",
       "      <td>100001</td>\n",
       "      <td>Bullet01</td>\n",
       "      <td>Versatile connector for various 90° connection...</td>\n",
       "    </tr>\n",
       "    <tr>\n",
       "      <th>1</th>\n",
       "      <td>100001</td>\n",
       "      <td>Bullet02</td>\n",
       "      <td>Stronger than angled nailing or screw fastenin...</td>\n",
       "    </tr>\n",
       "    <tr>\n",
       "      <th>2</th>\n",
       "      <td>100001</td>\n",
       "      <td>Bullet03</td>\n",
       "      <td>Help ensure joints are consistently straight a...</td>\n",
       "    </tr>\n",
       "    <tr>\n",
       "      <th>3</th>\n",
       "      <td>100001</td>\n",
       "      <td>Bullet04</td>\n",
       "      <td>Dimensions: 3 in. x 3 in. x 1-1/2 in.</td>\n",
       "    </tr>\n",
       "    <tr>\n",
       "      <th>4</th>\n",
       "      <td>100001</td>\n",
       "      <td>Bullet05</td>\n",
       "      <td>Made from 12-Gauge steel</td>\n",
       "    </tr>\n",
       "  </tbody>\n",
       "</table>\n",
       "</div>"
      ],
      "text/plain": [
       "   product_uid      name                                              value\n",
       "0       100001  Bullet01  Versatile connector for various 90° connection...\n",
       "1       100001  Bullet02  Stronger than angled nailing or screw fastenin...\n",
       "2       100001  Bullet03  Help ensure joints are consistently straight a...\n",
       "3       100001  Bullet04              Dimensions: 3 in. x 3 in. x 1-1/2 in.\n",
       "4       100001  Bullet05                           Made from 12-Gauge steel"
      ]
     },
     "metadata": {},
     "output_type": "display_data"
    },
    {
     "name": "stdout",
     "output_type": "stream",
     "text": [
      "None\n"
     ]
    },
    {
     "data": {
      "text/plain": [
       "[None, None, None, None]"
      ]
     },
     "execution_count": 46,
     "metadata": {},
     "output_type": "execute_result"
    }
   ],
   "source": [
    "# Preview the first 5 rows of a csv file given the path to it\n",
    "def preview_data(file, name):\n",
    "    print display(HTML(\"<br><h2>First five rows of %s</h2>\"%name))\n",
    "    preview_df = pd.read_csv(file)\n",
    "    print display(preview_df.head(5))\n",
    "\n",
    "def get_path(file):\n",
    "    return \"%s%s\"%(DATADIR, file)\n",
    "\n",
    "# Define the files for later\n",
    "f_train = get_path('train.csv')\n",
    "f_test = get_path('test.csv')\n",
    "f_desc = get_path('product_descriptions.csv')\n",
    "f_attr = get_path('attributes.csv')\n",
    "\n",
    "# Do all four\n",
    "files = [(f_train, 'train'), (f_test, 'test'), (f_desc, 'descriptions'), (f_attr, 'attributes')]\n",
    "map(lambda x: preview_data(x[0], x[1]), files)"
   ]
  },
  {
   "cell_type": "markdown",
   "metadata": {},
   "source": [
    "# Feature engineering: Part 1\n",
    "After looking at these spreadsheets, I realize there isn't a ton of information with which to work. My initial thought is to do some sort of a word matching procedure (e.g. see if one of the search words matches one of the words in the title (or description, or attributes). Better still, I could take the individual letters in each word of the search query and try to see if they appear consecutively in the raw string of the title, description, or attributes.\n",
    "\n",
    "Let's give that a try."
   ]
  },
  {
   "cell_type": "code",
   "execution_count": 47,
   "metadata": {
    "collapsed": false
   },
   "outputs": [],
   "source": [
    "# This will take the search query as well as a string to match it against.\n",
    "# The query will be split into words and those will be split into characters.\n",
    "#   -If any consective number of such characters match the string, it will record that match.\n",
    "#   -The match will be a percentage of the word matching combined with a percentage of the words of the search\n",
    "#      that matched.\n",
    "def query_string_search(query, to_match):\n",
    "    \n",
    "    # Lowercase all the things\n",
    "    #--------------------------------------------------------\n",
    "    query = query.lower()\n",
    "    to_match = to_match.lower()\n",
    "    \n",
    "    \n",
    "    # Split the query into an array of char arrays\n",
    "    #--------------------------------------------------------\n",
    "    words = query.split(\" \")\n",
    "    \n",
    "    \n",
    "    # Return the highest fraction of consecutive matching characters\n",
    "    # Throw the word out if it's too small or if <1/2 of chars are found\n",
    "    #--------------------------------------------------------\n",
    "    def max_match(word, compare):\n",
    "        l = len(list(word))\n",
    "    \n",
    "        if l > 3:\n",
    "            # Look at all beginning substrings with 0-3 chars chopped off the end (i.e. removal of suffixes)\n",
    "            sub_strings = [ word[0:-i] for i in range(1,4) ]\n",
    "            sub_strings.append(word)\n",
    "            \n",
    "            # Add some suffixes to the words too\n",
    "            super_strings = [ word+x for x in ['s', 'ing', 'es']]\n",
    "            \n",
    "            # Flatten\n",
    "            strings = [item for sublist in [sub_strings, super_strings] for item in sublist ]\n",
    "\n",
    "            \n",
    "            # Return the MAX of an array of the length of each substring that matches\n",
    "            return max( map(lambda s: len(word) if s in compare else 0, strings ) )\n",
    "        \n",
    "        return None\n",
    "    \n",
    "    \n",
    "    # Match each word\n",
    "    #--------------------------------------------------------\n",
    "    matches = filter(lambda x: x != None, map(lambda x: max_match(x, to_match), words))\n",
    "\n",
    "    \n",
    "    # I want to return the weighted sum of matched words that are >2 characters\n",
    "    # First get the total characters in the query, then return a proportion of chars belonging to\n",
    "    #     words that were matched\n",
    "    #--------------------------------------------------------\n",
    "    total_chars = sum(map(lambda x: len(x) if len(x)>2 else 0, words))\n",
    "    \n",
    "    \n",
    "    return float(sum(matches))/max(total_chars,1)"
   ]
  },
  {
   "cell_type": "code",
   "execution_count": 48,
   "metadata": {
    "collapsed": false
   },
   "outputs": [
    {
     "data": {
      "text/plain": [
       "1.0"
      ]
     },
     "execution_count": 48,
     "metadata": {},
     "output_type": "execute_result"
    }
   ],
   "source": [
    "query_string_search(\"deck over\", \"BEHR Preium Textured DECKOVER is an innovatively\")"
   ]
  },
  {
   "cell_type": "markdown",
   "metadata": {},
   "source": [
    "# Feature Engineering Pipeline: Part 1\n",
    "I will start by engineering new features and removing the long strings in my data set. Specifically, I want to add\n",
    "\n",
    "* Match rates of query relating to title and description (determined by query_string_search function)\n",
    "* String length columns of query, description, and title columns\n",
    "\n",
    "I will go ahead and build a new training set based on this."
   ]
  },
  {
   "cell_type": "code",
   "execution_count": 114,
   "metadata": {
    "collapsed": false
   },
   "outputs": [],
   "source": [
    "import time\n",
    "\n",
    "## Utility functions\n",
    "#--------------------------------------------------------\n",
    "\n",
    "# Get the length of a string, but filter out the whitespace\n",
    "# Returns an array of non-whitespace chars\n",
    "def str_len(s):\n",
    "    return len( filter(lambda l: l != \" \", list( str(s) )) )\n",
    "\n",
    "# Normalize the column to unit-length 1\n",
    "# Input is a datafram column\n",
    "def norm(col):\n",
    "    return (col - col.mean()) / (col.max() - col.min())\n",
    "\n",
    "\n",
    "## DATA PIPELINE\n",
    "#--------------------------------------------------------\n",
    "# Given the data (train or test) and description files,\n",
    "# perform a series of operations to produce a data set on which we can do ML\n",
    "def pipeline(data_file, desc_file, **kwargs):\n",
    "    \n",
    "    start = time.time()\n",
    "    \n",
    "    ## Read files\n",
    "    #--------------------------------------------------------\n",
    "    \n",
    "    # Read the initial train.csv and join it to product descriptions\n",
    "    _df = pd.read_csv(data_file)\n",
    "    desc_df = pd.read_csv(desc_file)\n",
    "\n",
    "    # The data frame we will be working with\n",
    "    df = pd.merge(_df, desc_df, how='outer')\n",
    "    \n",
    "    \n",
    "    ## ADD MATCH COLUMNS\n",
    "    #--------------------------------------------------------\n",
    "\n",
    "    # Add the description_match column\n",
    "    desc_zip = np.dstack( ( np.array(df['search_term']), np.array(df['product_description']) ))[0]\n",
    "    df['description_match'] = norm(pd.Series( map(lambda x: query_string_search(str(x[0]), str(x[1]) ), desc_zip ) ))\n",
    "\n",
    "    # Add the title_match column\n",
    "    title_zip = np.dstack( (np.array(df['search_term']), np.array(df['product_title']) ))[0]\n",
    "    df['title_match'] = norm( pd.Series( map(lambda x: query_string_search(str(x[0]), str(x[1]) ), title_zip ) ))\n",
    "    \n",
    "    \n",
    "    ## ADD LENGTH Columns (filter out whitespace)\n",
    "    #--------------------------------------------------------\n",
    "    \n",
    "    df['description_l'] = norm( pd.Series( map(lambda x: str_len(x), df['product_description']) ))\n",
    "    df['title_l'] = norm( pd.Series( map(lambda x: str_len(x), df['product_title']) ))\n",
    "    df['query_l'] =  norm( pd.Series( map(lambda x: str_len(x), df['search_term']) ))\n",
    "    \n",
    "\n",
    "    ## REMOVE TEXT columns\n",
    "    #--------------------------------------------------------\n",
    "    map(lambda x: df.pop(x), ['product_uid', 'search_term', 'product_title', 'product_description'])\n",
    "\n",
    "    print \"df size: %s\"%str(np.shape(df))\n",
    "    ## DROP ROWS NaN values (but only if kwargs does not include submission)\n",
    "    if 'submission' in kwargs:\n",
    "        clean_df = df.copy()\n",
    "    else:\n",
    "        clean_df = df.copy().dropna()\n",
    "    \n",
    "    ## Pop off the ids\n",
    "    ids = clean_df['id']\n",
    "    clean_df.pop('id')\n",
    "    \n",
    "    print display(HTML(\"<font color='blue'><b>Data pipelined in %s s</b></font>\"%(time.time()-start)))\n",
    "    return clean_df, ids\n",
    "\n",
    "## For submission, we need ids in order\n",
    "## This function pops off the id column and returns it as a series\n",
    "def get_id_col(data_file):\n",
    "    df = pd.read_csv(data_file)\n",
    "    print \"df shape: %s\"%str(np.shape(df))\n",
    "    new_df = df.copy().dropna()\n",
    "    print \"new_df shape: %s\"%str(np.shape(new_df))\n",
    "    return pd.Series(new_df['id'])"
   ]
  },
  {
   "cell_type": "code",
   "execution_count": 50,
   "metadata": {
    "collapsed": false
   },
   "outputs": [
    {
     "data": {
      "text/html": [
       "<font color='blue'><b>Data pipelined in 12.8154950142 s</b></font>"
      ],
      "text/plain": [
       "<IPython.core.display.HTML object>"
      ]
     },
     "metadata": {},
     "output_type": "display_data"
    },
    {
     "name": "stdout",
     "output_type": "stream",
     "text": [
      "None\n"
     ]
    }
   ],
   "source": [
    "df, ids = pipeline(f_train, f_desc)"
   ]
  },
  {
   "cell_type": "markdown",
   "metadata": {},
   "source": [
    "### Sanity Checkpoint 1\n",
    "As a sanity check, it is good to check out the first few lines of my data frame and also to graph the features to make sure there are actual distributions of them."
   ]
  },
  {
   "cell_type": "code",
   "execution_count": 51,
   "metadata": {
    "collapsed": true
   },
   "outputs": [],
   "source": [
    "# Plot the distribution (histogram) of my features\n",
    "def plot_hist(col, name):\n",
    "    fig = plt.figure()\n",
    "    ax = fig.add_subplot(111)\n",
    "    \n",
    "    plt.title('Histogram of %s' % name)\n",
    "    #fig.colorbar(cax)\n",
    "    plt.hist(col)\n",
    "    #plt.xlabel('Value')\n",
    "    #plt.ylabel('Count')\n",
    "    plt.show()"
   ]
  },
  {
   "cell_type": "code",
   "execution_count": 52,
   "metadata": {
    "collapsed": false
   },
   "outputs": [
    {
     "data": {
      "text/html": [
       "<div>\n",
       "<table border=\"1\" class=\"dataframe\">\n",
       "  <thead>\n",
       "    <tr style=\"text-align: right;\">\n",
       "      <th></th>\n",
       "      <th>relevance</th>\n",
       "      <th>description_match</th>\n",
       "      <th>title_match</th>\n",
       "      <th>description_l</th>\n",
       "      <th>title_l</th>\n",
       "      <th>query_l</th>\n",
       "    </tr>\n",
       "  </thead>\n",
       "  <tbody>\n",
       "    <tr>\n",
       "      <th>0</th>\n",
       "      <td>3.00</td>\n",
       "      <td>0.062732</td>\n",
       "      <td>0.080768</td>\n",
       "      <td>-0.001956</td>\n",
       "      <td>-0.013432</td>\n",
       "      <td>0.035606</td>\n",
       "    </tr>\n",
       "    <tr>\n",
       "      <th>1</th>\n",
       "      <td>2.50</td>\n",
       "      <td>-0.353934</td>\n",
       "      <td>-0.335898</td>\n",
       "      <td>-0.001956</td>\n",
       "      <td>-0.013432</td>\n",
       "      <td>-0.039866</td>\n",
       "    </tr>\n",
       "    <tr>\n",
       "      <th>2</th>\n",
       "      <td>3.00</td>\n",
       "      <td>0.646066</td>\n",
       "      <td>0.664102</td>\n",
       "      <td>0.043565</td>\n",
       "      <td>0.298568</td>\n",
       "      <td>-0.039866</td>\n",
       "    </tr>\n",
       "    <tr>\n",
       "      <th>3</th>\n",
       "      <td>2.33</td>\n",
       "      <td>0.646066</td>\n",
       "      <td>0.664102</td>\n",
       "      <td>-0.028932</td>\n",
       "      <td>0.274568</td>\n",
       "      <td>0.073342</td>\n",
       "    </tr>\n",
       "    <tr>\n",
       "      <th>4</th>\n",
       "      <td>2.67</td>\n",
       "      <td>0.646066</td>\n",
       "      <td>0.664102</td>\n",
       "      <td>-0.028932</td>\n",
       "      <td>0.274568</td>\n",
       "      <td>0.111078</td>\n",
       "    </tr>\n",
       "    <tr>\n",
       "      <th>5</th>\n",
       "      <td>3.00</td>\n",
       "      <td>0.415296</td>\n",
       "      <td>0.433332</td>\n",
       "      <td>0.418275</td>\n",
       "      <td>0.402568</td>\n",
       "      <td>0.054474</td>\n",
       "    </tr>\n",
       "    <tr>\n",
       "      <th>6</th>\n",
       "      <td>2.67</td>\n",
       "      <td>0.646066</td>\n",
       "      <td>0.664102</td>\n",
       "      <td>0.418275</td>\n",
       "      <td>0.402568</td>\n",
       "      <td>0.148814</td>\n",
       "    </tr>\n",
       "    <tr>\n",
       "      <th>7</th>\n",
       "      <td>3.00</td>\n",
       "      <td>0.646066</td>\n",
       "      <td>0.664102</td>\n",
       "      <td>0.418275</td>\n",
       "      <td>0.402568</td>\n",
       "      <td>-0.002130</td>\n",
       "    </tr>\n",
       "    <tr>\n",
       "      <th>8</th>\n",
       "      <td>2.67</td>\n",
       "      <td>0.646066</td>\n",
       "      <td>0.664102</td>\n",
       "      <td>0.009424</td>\n",
       "      <td>0.210568</td>\n",
       "      <td>0.073342</td>\n",
       "    </tr>\n",
       "    <tr>\n",
       "      <th>9</th>\n",
       "      <td>3.00</td>\n",
       "      <td>-0.353934</td>\n",
       "      <td>-0.335898</td>\n",
       "      <td>-0.070660</td>\n",
       "      <td>0.082568</td>\n",
       "      <td>-0.077601</td>\n",
       "    </tr>\n",
       "  </tbody>\n",
       "</table>\n",
       "</div>"
      ],
      "text/plain": [
       "   relevance  description_match  title_match  description_l   title_l  \\\n",
       "0       3.00           0.062732     0.080768      -0.001956 -0.013432   \n",
       "1       2.50          -0.353934    -0.335898      -0.001956 -0.013432   \n",
       "2       3.00           0.646066     0.664102       0.043565  0.298568   \n",
       "3       2.33           0.646066     0.664102      -0.028932  0.274568   \n",
       "4       2.67           0.646066     0.664102      -0.028932  0.274568   \n",
       "5       3.00           0.415296     0.433332       0.418275  0.402568   \n",
       "6       2.67           0.646066     0.664102       0.418275  0.402568   \n",
       "7       3.00           0.646066     0.664102       0.418275  0.402568   \n",
       "8       2.67           0.646066     0.664102       0.009424  0.210568   \n",
       "9       3.00          -0.353934    -0.335898      -0.070660  0.082568   \n",
       "\n",
       "    query_l  \n",
       "0  0.035606  \n",
       "1 -0.039866  \n",
       "2 -0.039866  \n",
       "3  0.073342  \n",
       "4  0.111078  \n",
       "5  0.054474  \n",
       "6  0.148814  \n",
       "7 -0.002130  \n",
       "8  0.073342  \n",
       "9 -0.077601  "
      ]
     },
     "execution_count": 52,
     "metadata": {},
     "output_type": "execute_result"
    }
   ],
   "source": [
    "# First 10 lines\n",
    "df.head(10)"
   ]
  },
  {
   "cell_type": "code",
   "execution_count": 53,
   "metadata": {
    "collapsed": false
   },
   "outputs": [
    {
     "data": {
      "image/png": "[encoded data removed]",
      "text/plain": [
       "<matplotlib.figure.Figure at 0x7f25ee93e690>"
      ]
     },
     "metadata": {},
     "output_type": "display_data"
    },
    {
     "data": {
      "image/png": "[encoded data removed]",
      "text/plain": [
       "<matplotlib.figure.Figure at 0x7f25ee94eb50>"
      ]
     },
     "metadata": {},
     "output_type": "display_data"
    },
    {
     "data": {
      "image/png": "[encoded data removed]",
      "text/plain": [
       "<matplotlib.figure.Figure at 0x7f25e1b14110>"
      ]
     },
     "metadata": {},
     "output_type": "display_data"
    },
    {
     "data": {
      "image/png": "[encoded data removed]",
      "text/plain": [
       "<matplotlib.figure.Figure at 0x7f25e9e72cd0>"
      ]
     },
     "metadata": {},
     "output_type": "display_data"
    },
    {
     "data": {
      "image/png": "[encoded data removed]",
      "text/plain": [
       "<matplotlib.figure.Figure at 0x7f25ef5eb190>"
      ]
     },
     "metadata": {},
     "output_type": "display_data"
    },
    {
     "data": {
      "text/plain": [
       "[None, None, None, None, None]"
      ]
     },
     "execution_count": 53,
     "metadata": {},
     "output_type": "execute_result"
    }
   ],
   "source": [
    "# Feature plots\n",
    "features = [\n",
    "    ('query_l', 'query_length'), \n",
    "    ('description_l', 'description_length'), \n",
    "    ('title_l', 'title_length'), \n",
    "    ('description_match', 'description_match'), \n",
    "    ('title_match', 'title_match'),\n",
    "    #('relevance', 'relevance')\n",
    "]\n",
    "\n",
    "map(lambda x: plot_hist(df[x[0]], x[1]), features)"
   ]
  },
  {
   "cell_type": "markdown",
   "metadata": {},
   "source": [
    "### Training Set: Distribution of Relevance Scores\n",
    "I also want to take a look at how the relevance scores are distributed in the training set"
   ]
  },
  {
   "cell_type": "code",
   "execution_count": 54,
   "metadata": {
    "collapsed": false
   },
   "outputs": [
    {
     "data": {
      "image/png": "[encoded data removed]",
      "text/plain": [
       "<matplotlib.figure.Figure at 0x7f25f134c610>"
      ]
     },
     "metadata": {},
     "output_type": "display_data"
    }
   ],
   "source": [
    "plot_hist(df['relevance'], 'Normalized Relevance')"
   ]
  },
  {
   "cell_type": "markdown",
   "metadata": {},
   "source": [
    "# Learning\n",
    "A few notes about the distributions:\n",
    "\n",
    "* The string length columns look to be distributed pretty nicely\n",
    "* The description matches are heavily favored to the right (meaning the strings match well); we would expect this from a search engine\n",
    "* The relevance scores are also heavily favored to the right (again, we expect this engine to work reasonably well, so this makes makes sense)\n",
    "\n",
    "Everything so far looks reasonable. Now I will go ahead and set up a machine learning pipeline to test some algorithms on the training/test data."
   ]
  },
  {
   "cell_type": "code",
   "execution_count": 55,
   "metadata": {
    "collapsed": false
   },
   "outputs": [],
   "source": [
    "from sklearn.cross_validation import KFold\n",
    "\n",
    "## CROSS VALIDATOR\n",
    "#  -- Given X, y, # of folds, and the type of model, produce predicted y vector\n",
    "def mse_eval_cv(X, y, folds, model_class, **kwargs):\n",
    "    \n",
    "    # Init the object\n",
    "    kf = KFold(len(y), n_folds=folds, shuffle=True)\n",
    "    y_pred = y.copy()\n",
    "    \n",
    "    for train_i, test_i in kf:\n",
    "        # Sample our train/test subsets in both X and y\n",
    "        X_train, X_test = X[train_i], X[test_i]\n",
    "        y_train, y_test = y[train_i], y[test_i]\n",
    "        \n",
    "        # Fit train subsets to the model\n",
    "        clf = model_class(**kwargs)\n",
    "        clf.fit(X_train, y_train)\n",
    "        y_pred[test_i] = clf.predict(X_test)\n",
    "    \n",
    "    return y_pred"
   ]
  },
  {
   "cell_type": "code",
   "execution_count": 56,
   "metadata": {
    "collapsed": true
   },
   "outputs": [],
   "source": [
    "from sklearn.metrics import mean_squared_error as MSE\n",
    "\n",
    "# We are at the mercy of rounding for this competition, as the output data needs to be a real number\n",
    "#   (even though the input  was not)\n",
    "def compare_y(y_pred, y):\n",
    "    return MSE(y_pred, y)\n",
    "    #return MSE(np.around(y_pred), np.around(y))"
   ]
  },
  {
   "cell_type": "code",
   "execution_count": 57,
   "metadata": {
    "collapsed": false
   },
   "outputs": [],
   "source": [
    "# Move relevance over to y\n",
    "if 'relevance' in df:\n",
    "    y = pd.Series(df['relevance'])\n",
    "    df.pop('relevance')\n",
    "\n",
    "    # Rename df\n",
    "    X = np.array(df.copy())"
   ]
  },
  {
   "cell_type": "code",
   "execution_count": 62,
   "metadata": {
    "collapsed": false
   },
   "outputs": [],
   "source": [
    "# Graph various tuning parameters on the same chart\n",
    "def graph_tuning(data):\n",
    "    print \"got data: %s\"%str(data)\n",
    "    for d in data:\n",
    "        plt.plot(d['x'], d['y'], linestyle='-', label=d['label'])\n",
    "    plt.show()\n",
    "\n",
    "# Tune a model by evaluating its MSE for various kwargs included as \"params\"\n",
    "#   @X = 2D numpy array of size Nxp\n",
    "#   @y = 1D numpy array of size N\n",
    "#   @MODEL = scikit instance of model to evaluate\n",
    "#   @params = dictionary of keyword args of the form:\n",
    "#        {key1: [val1, val2, .. valZ], key2: [val1, val2, .. valZ], ...}\n",
    "#\n",
    "#   returns dictionary of kwargs\n",
    "#--------------------------------------------------------\n",
    "def tune_model(X, y, MODEL, params):\n",
    "    graph_data = []\n",
    "    start = time.time()\n",
    "    global_mse = 1\n",
    "    keywords = {}\n",
    "    n_folds = 3  # Set this to default; override it if needed\n",
    "\n",
    "    \n",
    "    # Tune the CV folds\n",
    "    #   I want to start by tuning the number of cross validation folds\n",
    "    #   Once these are optimized, I will start tuning parameters (if any were included)\n",
    "    #--------------------------------------------------------\n",
    "    # A \"tuning\" vector of inputs that will be used to tune the parameter\n",
    "    f = [i for i in xrange(3,11)] \n",
    "\n",
    "    # y_pred is an array of predicted y vectors\n",
    "    y_pred1 = map(lambda i: mse_eval_cv(X, y, i, MODEL), f)\n",
    "\n",
    "    # mse is a vector of MSE values corresponding to dimensions of y_pred\n",
    "    mse1 = map(lambda m: compare_y(m, y), y_pred1)\n",
    "    \n",
    "    # Add graph data\n",
    "    graph_data.append({'label': 'k-folds', 'x': f, 'y': mse1})\n",
    "    \n",
    "    # Include this term if it reduces MSE\n",
    "    if min(mse1) < global_mse:\n",
    "        global_mse = min(mse1)\n",
    "    \n",
    "        # best_x is a value in the initial tuning vector that minimizes MSE\n",
    "        best_folds = f[mse1.index(min(mse1))]\n",
    "        n_folds = best_folds\n",
    "\n",
    "        # Display the minimization value and use it in further tuning\n",
    "        display(HTML(\"<font color='orange'><b>MSE minimized for %s folds: %s</b></font>\"%(best_folds, min(mse1) ) ))\n",
    "\n",
    "    \n",
    "    # Tune the model with a new kwarg\n",
    "    def eval_kw(key, val):\n",
    "        \n",
    "        # Set a new keyword arg\n",
    "        temp_kw = copy.deepcopy(keywords)\n",
    "        temp_kw[key] = val\n",
    "        \n",
    "        # Evaluate the mse\n",
    "        _y_pred = mse_eval_cv(X, y, n_folds, MODEL, **temp_kw)\n",
    "        return _y_pred\n",
    "    \n",
    "    \n",
    "    \n",
    "    # Tuning parameters\n",
    "    # - vals should be an array of possible values of the key we are trying to tune\n",
    "    #--------------------------------------------------------\n",
    "    for key, vals in params.iteritems():\n",
    "        \n",
    "        # Calculate MSE for each val in vals for this key\n",
    "        y_preds = map(lambda x: eval_kw(key, x), vals) \n",
    "        mse_update = map(lambda m: compare_y(m, y), y_preds)\n",
    "    \n",
    "        # Add graph data\n",
    "        graph_data.append({'label': key, 'x': vals, 'y': mse_update})\n",
    "    \n",
    "        # If this keyword reduces the global mse in any way, \n",
    "        #  include it in global keywords and update global_mse\n",
    "        if min(mse_update) < global_mse:\n",
    "            global_mse = min(mse_update)\n",
    "            keywords[key] = vals[mse_update.index(min(mse_update))]\n",
    "            print \"Keyword %s added to kwargs with value %s (MSE %s)\"%(key, keywords[key], str(global_mse) )\n",
    "        else:\n",
    "            display(HTML(\"Keyword %s <b>NOT</b> added to kwargs.\"%key))\n",
    "\n",
    "    display(HTML(\"<font color='blue'>Best MSE: %s</font>\"%(global_mse) ))\n",
    "    display(HTML(\"<font color='blue'>Trained model in %s s</font>\"%(time.time()-start)))\n",
    "\n",
    "    return keywords\n",
    "    "
   ]
  },
  {
   "cell_type": "markdown",
   "metadata": {},
   "source": [
    "## Ensemble Methods\n",
    "I will start by exploring a few ensemble methods and see where they take me. Reminder that this is a regression problem."
   ]
  },
  {
   "cell_type": "code",
   "execution_count": 59,
   "metadata": {
    "collapsed": true
   },
   "outputs": [],
   "source": [
    "from sklearn.ensemble import AdaBoostRegressor as ABR\n",
    "from sklearn.ensemble import GradientBoostingRegressor as GBR\n",
    "from sklearn.ensemble import RandomForestRegressor as RF"
   ]
  },
  {
   "cell_type": "markdown",
   "metadata": {},
   "source": [
    "### AdaBoost"
   ]
  },
  {
   "cell_type": "code",
   "execution_count": 63,
   "metadata": {
    "collapsed": false
   },
   "outputs": [
    {
     "data": {
      "text/html": [
       "<font color='orange'><b>MSE minimized for 3 folds: 0.257646315486</b></font>"
      ],
      "text/plain": [
       "<IPython.core.display.HTML object>"
      ]
     },
     "metadata": {},
     "output_type": "display_data"
    },
    {
     "name": "stdout",
     "output_type": "stream",
     "text": [
      "Keyword n_estimators added to kwargs with value 20 (MSE 0.256314945832)\n"
     ]
    },
    {
     "data": {
      "text/html": [
       "Keyword loss <b>NOT</b> added to kwargs."
      ],
      "text/plain": [
       "<IPython.core.display.HTML object>"
      ]
     },
     "metadata": {},
     "output_type": "display_data"
    },
    {
     "data": {
      "text/html": [
       "<font color='blue'>Best MSE: 0.256314945832</font>"
      ],
      "text/plain": [
       "<IPython.core.display.HTML object>"
      ]
     },
     "metadata": {},
     "output_type": "display_data"
    },
    {
     "data": {
      "text/html": [
       "<font color='blue'>Trained model in 38.7826919556 s</font>"
      ],
      "text/plain": [
       "<IPython.core.display.HTML object>"
      ]
     },
     "metadata": {},
     "output_type": "display_data"
    }
   ],
   "source": [
    "adaboost_kwargs = {\n",
    "    'loss': ['linear', 'exponential', 'square'],\n",
    "    'n_estimators': [10, 20, 30, 40, 50, 60]\n",
    "}\n",
    "\n",
    "abr_kws = tune_model(X, y, ABR, adaboost_kwargs)"
   ]
  },
  {
   "cell_type": "markdown",
   "metadata": {},
   "source": [
    "### Gradient Boosting Regressor"
   ]
  },
  {
   "cell_type": "code",
   "execution_count": 64,
   "metadata": {
    "collapsed": false
   },
   "outputs": [
    {
     "data": {
      "text/html": [
       "<font color='orange'><b>MSE minimized for 4 folds: 0.248108364122</b></font>"
      ],
      "text/plain": [
       "<IPython.core.display.HTML object>"
      ]
     },
     "metadata": {},
     "output_type": "display_data"
    },
    {
     "data": {
      "text/html": [
       "Keyword loss <b>NOT</b> added to kwargs."
      ],
      "text/plain": [
       "<IPython.core.display.HTML object>"
      ]
     },
     "metadata": {},
     "output_type": "display_data"
    },
    {
     "name": "stdout",
     "output_type": "stream",
     "text": [
      "Keyword learning_rate added to kwargs with value 0.2 (MSE 0.24765581834)\n"
     ]
    },
    {
     "data": {
      "text/html": [
       "Keyword min_samples_leaf <b>NOT</b> added to kwargs."
      ],
      "text/plain": [
       "<IPython.core.display.HTML object>"
      ]
     },
     "metadata": {},
     "output_type": "display_data"
    },
    {
     "name": "stdout",
     "output_type": "stream",
     "text": [
      "Keyword n_estimators added to kwargs with value 130 (MSE 0.247486169927)\n"
     ]
    },
    {
     "data": {
      "text/html": [
       "Keyword min_weight_fraction_leaf <b>NOT</b> added to kwargs."
      ],
      "text/plain": [
       "<IPython.core.display.HTML object>"
      ]
     },
     "metadata": {},
     "output_type": "display_data"
    },
    {
     "data": {
      "text/html": [
       "Keyword min_samples_split <b>NOT</b> added to kwargs."
      ],
      "text/plain": [
       "<IPython.core.display.HTML object>"
      ]
     },
     "metadata": {},
     "output_type": "display_data"
    },
    {
     "name": "stdout",
     "output_type": "stream",
     "text": [
      "Keyword max_depth added to kwargs with value 4 (MSE 0.246859343376)\n"
     ]
    },
    {
     "data": {
      "text/html": [
       "<font color='blue'>Best MSE: 0.246859343376</font>"
      ],
      "text/plain": [
       "<IPython.core.display.HTML object>"
      ]
     },
     "metadata": {},
     "output_type": "display_data"
    },
    {
     "data": {
      "text/html": [
       "<font color='blue'>Trained model in 503.385815144 s</font>"
      ],
      "text/plain": [
       "<IPython.core.display.HTML object>"
      ]
     },
     "metadata": {},
     "output_type": "display_data"
    }
   ],
   "source": [
    "gbr_kwargs = {\n",
    "    'n_estimators': [50, 60, 70, 80, 90, 100, 110, 120, 130, 140, 150],\n",
    "    'min_samples_split': [2, 3, 4, 5],\n",
    "    'min_samples_leaf': [1, 2, 3, 4],\n",
    "    'min_weight_fraction_leaf': [0.0, 0.05, 0.1],\n",
    "    'max_depth': [2, 3, 4, 5],\n",
    "    'learning_rate': [0.1, 0.2, 0.3],\n",
    "    'loss': ['ls', 'lad', 'huber', 'quantile']\n",
    "}\n",
    "gbr_kws = tune_model(X, y, GBR, gbr_kwargs)"
   ]
  },
  {
   "cell_type": "markdown",
   "metadata": {},
   "source": [
    "### Random Forest"
   ]
  },
  {
   "cell_type": "code",
   "execution_count": 65,
   "metadata": {
    "collapsed": false
   },
   "outputs": [
    {
     "data": {
      "text/html": [
       "<font color='orange'><b>MSE minimized for 9 folds: 0.281379966328</b></font>"
      ],
      "text/plain": [
       "<IPython.core.display.HTML object>"
      ]
     },
     "metadata": {},
     "output_type": "display_data"
    },
    {
     "name": "stdout",
     "output_type": "stream",
     "text": [
      "Keyword n_estimators added to kwargs with value 30 (MSE 0.267279555855)\n",
      "Keyword min_samples_split added to kwargs with value 5 (MSE 0.260432246937)\n",
      "Keyword min_weight_fraction_leaf added to kwargs with value 0.1 (MSE 0.254315888046)\n",
      "Keyword max_depth added to kwargs with value 4 (MSE 0.254211670831)\n"
     ]
    },
    {
     "data": {
      "text/html": [
       "Keyword min_samples_leaf <b>NOT</b> added to kwargs."
      ],
      "text/plain": [
       "<IPython.core.display.HTML object>"
      ]
     },
     "metadata": {},
     "output_type": "display_data"
    },
    {
     "data": {
      "text/html": [
       "<font color='blue'>Best MSE: 0.254211670831</font>"
      ],
      "text/plain": [
       "<IPython.core.display.HTML object>"
      ]
     },
     "metadata": {},
     "output_type": "display_data"
    },
    {
     "data": {
      "text/html": [
       "<font color='blue'>Trained model in 491.577577829 s</font>"
      ],
      "text/plain": [
       "<IPython.core.display.HTML object>"
      ]
     },
     "metadata": {},
     "output_type": "display_data"
    }
   ],
   "source": [
    "from sklearn.ensemble import RandomForestRegressor as RF\n",
    "\n",
    "rf_kwargs = {\n",
    "    'n_estimators': [5, 10, 15, 20, 25, 30],\n",
    "    'max_depth': [None, 2, 3, 4],\n",
    "    'min_samples_split': [2, 3, 4, 5],\n",
    "    'min_samples_leaf': [1, 2, 3, 4],\n",
    "    'min_weight_fraction_leaf': [0, 0.1, 0.2],\n",
    "}\n",
    "rf_kws = tune_model(X, y, RF, rf_kwargs)"
   ]
  },
  {
   "cell_type": "markdown",
   "metadata": {},
   "source": [
    "# Submission\n",
    "I will now run the best looking model with optimized kwargs on the test data"
   ]
  },
  {
   "cell_type": "code",
   "execution_count": 115,
   "metadata": {
    "collapsed": false
   },
   "outputs": [
    {
     "name": "stdout",
     "output_type": "stream",
     "text": [
      "df size: (193661, 6)\n"
     ]
    },
    {
     "data": {
      "text/html": [
       "<font color='blue'><b>Data pipelined in 19.6708829403 s</b></font>"
      ],
      "text/plain": [
       "<IPython.core.display.HTML object>"
      ]
     },
     "metadata": {},
     "output_type": "display_data"
    },
    {
     "name": "stdout",
     "output_type": "stream",
     "text": [
      "None\n"
     ]
    }
   ],
   "source": [
    "df_test, df_test_ids = pipeline(f_test, f_desc, submission=1)"
   ]
  },
  {
   "cell_type": "code",
   "execution_count": 116,
   "metadata": {
    "collapsed": false
   },
   "outputs": [
    {
     "name": "stdout",
     "output_type": "stream",
     "text": [
      "(193661,)\n",
      "(193661, 5)\n"
     ]
    }
   ],
   "source": [
    "print np.shape(df_test_ids)\n",
    "print np.shape(df_test)"
   ]
  },
  {
   "cell_type": "code",
   "execution_count": 126,
   "metadata": {
    "collapsed": false
   },
   "outputs": [],
   "source": [
    "## Run model for submission\n",
    "def prepare_submission(test_X, X, y, folds, model_class, **kwargs):\n",
    "    \n",
    "    # Init the object\n",
    "    kf = KFold(len(y), n_folds=folds, shuffle=True)\n",
    "    y_pred = []\n",
    "    \n",
    "    for train_i, test_i in kf:\n",
    "        # Sample our train/test subsets in both X and y\n",
    "        X_train, X_test = X[train_i], X[test_i]\n",
    "        y_train, y_test = y[train_i], y[test_i]\n",
    "        \n",
    "        # Fit train subsets to the model\n",
    "        clf = model_class(**kwargs)\n",
    "        clf.fit(X_train, y_train)\n",
    "        \n",
    "        # Estimate y given this \n",
    "        y_pred.append(clf.predict(test_X))\n",
    "\n",
    "    return np.array(y_pred).mean(0)\n",
    "\n",
    "## Join ids with submission y\n",
    "def submit(ids, relevances, file_name):\n",
    "    submission = pd.DataFrame()\n",
    "    submission['id'] = ids\n",
    "    submission['relevance'] = relevances\n",
    "    path = \"%s/%s.csv\"%(DATADIR, file_name)\n",
    "    submission.to_csv(path, header=True, index=True)"
   ]
  },
  {
   "cell_type": "code",
   "execution_count": 127,
   "metadata": {
    "collapsed": false
   },
   "outputs": [],
   "source": [
    "rels = prepare_submission(np.array(df_test), X, y, 4, GBR, **gbr_kws)"
   ]
  },
  {
   "cell_type": "code",
   "execution_count": 128,
   "metadata": {
    "collapsed": false
   },
   "outputs": [],
   "source": [
    "submit(df_test_ids, rels, 'submission1')"
   ]
  }
 ],
 "metadata": {
  "kernelspec": {
   "display_name": "Python 2",
   "language": "python",
   "name": "python2"
  },
  "language_info": {
   "codemirror_mode": {
    "name": "ipython",
    "version": 2
   },
   "file_extension": ".py",
   "mimetype": "text/x-python",
   "name": "python",
   "nbconvert_exporter": "python",
   "pygments_lexer": "ipython2",
   "version": "2.7.6"
  }
 },
 "nbformat": 4,
 "nbformat_minor": 0
}
