{
 "cells": [
  {
   "cell_type": "code",
   "execution_count": 68,
   "metadata": {
    "collapsed": true
   },
   "outputs": [],
   "source": [
    "import pandas as pd\n",
    "import numpy as np\n",
    "import matplotlib.pyplot as plt\n",
    "%matplotlib inline\n",
    "import time"
   ]
  },
  {
   "cell_type": "markdown",
   "metadata": {},
   "source": [
    "#Predicting Product Sales in Stormy Weather (Walmart)\n",
    "Here I am trying to predict sales data for a number of products sold within a +/-3 day window of a weather event, defined as >1 inch of rain or >2 inches of snowfall."
   ]
  },
  {
   "cell_type": "code",
   "execution_count": 2,
   "metadata": {
    "collapsed": false
   },
   "outputs": [],
   "source": [
    "df = pd.read_csv('../../../../WorkLocal/Kaggle/walmart_2015_data/train.csv')"
   ]
  },
  {
   "cell_type": "code",
   "execution_count": 3,
   "metadata": {
    "collapsed": false
   },
   "outputs": [],
   "source": [
    "weather = pd.read_csv('../../../../WorkLocal/Kaggle/walmart_2015_data/weather.csv')"
   ]
  },
  {
   "cell_type": "code",
   "execution_count": 4,
   "metadata": {
    "collapsed": false
   },
   "outputs": [],
   "source": [
    "key = pd.read_csv('../../../../WorkLocal/Kaggle/walmart_2015_data/key.csv')"
   ]
  },
  {
   "cell_type": "markdown",
   "metadata": {},
   "source": [
    "The dataframe has 4.6 million rows, so putting a weather event into it row-by-row isn't much of an option. I will have to perform join operations on the data. I've never done this in pandas, but I'll roll up my sleeves here and give it a try."
   ]
  },
  {
   "cell_type": "code",
   "execution_count": 5,
   "metadata": {
    "collapsed": false
   },
   "outputs": [
    {
     "name": "stdout",
     "output_type": "stream",
     "text": [
      "Joined tables in 0.020669s\n"
     ]
    }
   ],
   "source": [
    "start = time.clock()\n",
    "y = pd.merge(weather, key, on='station_nbr', how='outer')\n",
    "print 'Joined tables in '+str(time.clock()-start)+'s'"
   ]
  },
  {
   "cell_type": "code",
   "execution_count": 6,
   "metadata": {
    "collapsed": true
   },
   "outputs": [],
   "source": [
    "#start = time.clock()\n",
    "#z = pd.merge(df, y, on='store_nbr', how='outer')\n",
    "#print 'Joined tables in '+str(time.clock()-start)+'s'"
   ]
  },
  {
   "cell_type": "code",
   "execution_count": 95,
   "metadata": {
    "collapsed": false
   },
   "outputs": [
    {
     "data": {
      "text/plain": [
       "\"        \\n        events = []\\n        for i in xrange(len(dates)):\\n            x= weather.loc[weather['station_nbr'] == stations[i] ].loc[weather['date'] == dates[i] ]\\n            rain = x['preciptotal'].values[0]\\n            snow = x['snowfall'].values[0]\\n            try:\\n                rain = float(rain)\\n                if rain > 1.0:\\n                    events.append(True)\\n            except:\\n                try:\\n                    snow = float(snow)\\n                    if snow > 2.0:\\n                        events.append(True)\\n                except:\\n                    events.append(False)\\n    print 'File written in '+str(time.clock()-start)+'s'\\n\""
      ]
     },
     "execution_count": 95,
     "metadata": {},
     "output_type": "execute_result"
    }
   ],
   "source": [
    "import csv\n",
    "def get_weather(df, stations, dates):\n",
    "    start = time.clock()\n",
    "    with open('../../../../WorkLocal/Kaggle/walmart_2015_data/merged_data.csv', 'w') as csvfile:\n",
    "        csv_write = csv.writer(csvfile, delimiter=',')\n",
    "        r = list(y.columns)\n",
    "        r.append('Event')\n",
    "        csv_write.writerow(r)\n",
    "       \n",
    "        events = []\n",
    "        for i in xrange(len(dates)):\n",
    "            x= weather.loc[weather['station_nbr'] == stations[i] ].loc[weather['date'] == dates[i] ]\n",
    "            \n",
    "            rain = x['preciptotal'].values[0]\n",
    "            snow = x['snowfall'].values[0]\n",
    "            try:\n",
    "                rain = float(rain)\n",
    "                if rain > 1.0:\n",
    "                    events.append(True)\n",
    "            except:\n",
    "                try:\n",
    "                    snow = float(snow)\n",
    "                    if snow > 2.0:\n",
    "                        events.append(True)\n",
    "                except:\n",
    "                    events.append(False)\n",
    "    print 'File written in '+str(time.clock()-start)+'s'\n"
   ]
  },
  {
   "cell_type": "code",
   "execution_count": 96,
   "metadata": {
    "collapsed": false
   },
   "outputs": [],
   "source": [
    "df['weather_event'] = get_weather(y, y['station_nbr'], y['date'])"
   ]
  },
  {
   "cell_type": "code",
   "execution_count": 103,
   "metadata": {
    "collapsed": false
   },
   "outputs": [
    {
     "name": "stdout",
     "output_type": "stream",
     "text": [
      "               date  store_nbr  item_nbr  units weather_event\n",
      "0        2012-01-01          1         1      0          None\n",
      "1        2012-01-01          1         2      0          None\n",
      "2        2012-01-01          1         3      0          None\n",
      "3        2012-01-01          1         4      0          None\n",
      "4        2012-01-01          1         5      0          None\n",
      "5        2012-01-01          1         6      0          None\n",
      "6        2012-01-01          1         7      0          None\n",
      "7        2012-01-01          1         8      0          None\n",
      "8        2012-01-01          1         9     29          None\n",
      "9        2012-01-01          1        10      0          None\n",
      "10       2012-01-01          1        11      0          None\n",
      "11       2012-01-01          1        12      0          None\n",
      "12       2012-01-01          1        13      0          None\n",
      "13       2012-01-01          1        14      0          None\n",
      "14       2012-01-01          1        15      0          None\n",
      "15       2012-01-01          1        16      0          None\n",
      "16       2012-01-01          1        17      0          None\n",
      "17       2012-01-01          1        18      0          None\n",
      "18       2012-01-01          1        19      0          None\n",
      "19       2012-01-01          1        20      0          None\n",
      "20       2012-01-01          1        21      0          None\n",
      "21       2012-01-01          1        22      0          None\n",
      "22       2012-01-01          1        23      0          None\n",
      "23       2012-01-01          1        24      0          None\n",
      "24       2012-01-01          1        25      0          None\n",
      "25       2012-01-01          1        26      0          None\n",
      "26       2012-01-01          1        27      0          None\n",
      "27       2012-01-01          1        28      2          None\n",
      "28       2012-01-01          1        29      0          None\n",
      "29       2012-01-01          1        30      0          None\n",
      "...             ...        ...       ...    ...           ...\n",
      "4617570  2014-10-31         45        82      0          None\n",
      "4617571  2014-10-31         45        83      0          None\n",
      "4617572  2014-10-31         45        84      0          None\n",
      "4617573  2014-10-31         45        85      0          None\n",
      "4617574  2014-10-31         45        86      0          None\n",
      "4617575  2014-10-31         45        87      0          None\n",
      "4617576  2014-10-31         45        88      0          None\n",
      "4617577  2014-10-31         45        89      0          None\n",
      "4617578  2014-10-31         45        90      0          None\n",
      "4617579  2014-10-31         45        91      0          None\n",
      "4617580  2014-10-31         45        92      0          None\n",
      "4617581  2014-10-31         45        93      0          None\n",
      "4617582  2014-10-31         45        94      0          None\n",
      "4617583  2014-10-31         45        95      0          None\n",
      "4617584  2014-10-31         45        96      0          None\n",
      "4617585  2014-10-31         45        97      0          None\n",
      "4617586  2014-10-31         45        98      0          None\n",
      "4617587  2014-10-31         45        99      0          None\n",
      "4617588  2014-10-31         45       100      0          None\n",
      "4617589  2014-10-31         45       101      0          None\n",
      "4617590  2014-10-31         45       102      0          None\n",
      "4617591  2014-10-31         45       103      0          None\n",
      "4617592  2014-10-31         45       104      0          None\n",
      "4617593  2014-10-31         45       105      0          None\n",
      "4617594  2014-10-31         45       106      0          None\n",
      "4617595  2014-10-31         45       107      0          None\n",
      "4617596  2014-10-31         45       108      0          None\n",
      "4617597  2014-10-31         45       109      0          None\n",
      "4617598  2014-10-31         45       110      0          None\n",
      "4617599  2014-10-31         45       111      0          None\n",
      "\n",
      "[4617600 rows x 5 columns]\n"
     ]
    }
   ],
   "source": []
  }
 ],
 "metadata": {
  "kernelspec": {
   "display_name": "Python 2",
   "language": "python",
   "name": "python2"
  },
  "language_info": {
   "codemirror_mode": {
    "name": "ipython",
    "version": 2
   },
   "file_extension": ".py",
   "mimetype": "text/x-python",
   "name": "python",
   "nbconvert_exporter": "python",
   "pygments_lexer": "ipython2",
   "version": "2.7.8"
  }
 },
 "nbformat": 4,
 "nbformat_minor": 0
}
